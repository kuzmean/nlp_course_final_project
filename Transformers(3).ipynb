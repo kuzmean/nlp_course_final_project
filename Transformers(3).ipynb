{
  "metadata": {
    "ExecuteTimeLog": [
      {
        "duration": 401,
        "start_time": "2023-05-18T12:09:14.560Z"
      },
      {
        "duration": 2677,
        "start_time": "2023-05-18T12:09:23.856Z"
      },
      {
        "duration": 1241,
        "start_time": "2023-05-18T12:22:29.365Z"
      },
      {
        "duration": 259,
        "start_time": "2023-05-18T12:23:04.688Z"
      },
      {
        "duration": 4,
        "start_time": "2023-05-18T12:23:20.382Z"
      },
      {
        "duration": 74308,
        "start_time": "2023-05-18T12:24:05.981Z"
      },
      {
        "duration": 128,
        "start_time": "2023-05-18T12:29:51.264Z"
      },
      {
        "duration": 72,
        "start_time": "2023-05-18T12:30:16.404Z"
      },
      {
        "duration": 47,
        "start_time": "2023-05-18T12:30:31.188Z"
      },
      {
        "duration": 18,
        "start_time": "2023-05-18T12:30:57.118Z"
      },
      {
        "duration": 8,
        "start_time": "2023-05-18T12:31:05.798Z"
      },
      {
        "duration": 4,
        "start_time": "2023-05-18T12:31:19.149Z"
      },
      {
        "duration": 2032,
        "start_time": "2023-05-18T12:55:51.381Z"
      },
      {
        "duration": 3,
        "start_time": "2023-05-18T12:56:02.301Z"
      },
      {
        "duration": 5,
        "start_time": "2023-05-18T12:56:26.259Z"
      },
      {
        "duration": 9,
        "start_time": "2023-05-18T12:56:35.490Z"
      },
      {
        "duration": 1824,
        "start_time": "2023-05-18T12:56:38.660Z"
      },
      {
        "duration": 4,
        "start_time": "2023-05-18T13:01:41.093Z"
      },
      {
        "duration": 5,
        "start_time": "2023-05-18T13:03:01.293Z"
      },
      {
        "duration": 5695,
        "start_time": "2023-05-18T13:03:08.300Z"
      },
      {
        "duration": 3,
        "start_time": "2023-05-18T13:03:44.309Z"
      },
      {
        "duration": 1982674,
        "start_time": "2023-05-18T13:04:36.003Z"
      },
      {
        "duration": 14,
        "start_time": "2023-05-18T14:10:45.717Z"
      },
      {
        "duration": 527,
        "start_time": "2023-05-18T14:10:49.963Z"
      },
      {
        "duration": 5638,
        "start_time": "2023-05-18T14:11:53.713Z"
      },
      {
        "duration": 606,
        "start_time": "2023-05-18T14:12:05.904Z"
      },
      {
        "duration": 3,
        "start_time": "2023-05-18T14:12:45.896Z"
      },
      {
        "duration": 2078939,
        "start_time": "2023-05-18T14:12:47.111Z"
      },
      {
        "duration": 652,
        "start_time": "2023-05-18T14:49:20.353Z"
      },
      {
        "duration": 536,
        "start_time": "2023-05-18T14:51:20.749Z"
      },
      {
        "duration": 11,
        "start_time": "2023-05-18T16:18:34.258Z"
      },
      {
        "duration": 5,
        "start_time": "2023-05-18T16:18:44.751Z"
      },
      {
        "duration": 4,
        "start_time": "2023-05-18T16:18:50.732Z"
      },
      {
        "duration": 3,
        "start_time": "2023-05-18T16:18:53.547Z"
      },
      {
        "duration": 497,
        "start_time": "2023-05-18T16:19:35.760Z"
      },
      {
        "duration": 16,
        "start_time": "2023-05-18T16:20:22.085Z"
      },
      {
        "duration": 555,
        "start_time": "2023-05-18T16:25:20.290Z"
      },
      {
        "duration": 45,
        "start_time": "2023-05-18T16:38:28.400Z"
      },
      {
        "duration": 505,
        "start_time": "2023-05-18T16:44:43.809Z"
      },
      {
        "duration": 1515,
        "start_time": "2023-05-19T14:22:06.196Z"
      },
      {
        "duration": 2612,
        "start_time": "2023-05-19T14:22:08.903Z"
      },
      {
        "duration": 26,
        "start_time": "2023-05-19T14:22:12.244Z"
      },
      {
        "duration": 249,
        "start_time": "2023-05-19T14:22:13.656Z"
      },
      {
        "duration": 19,
        "start_time": "2023-05-19T14:22:16.082Z"
      },
      {
        "duration": 68541,
        "start_time": "2023-05-19T14:23:34.503Z"
      },
      {
        "duration": 34,
        "start_time": "2023-05-19T15:16:04.820Z"
      },
      {
        "duration": 17,
        "start_time": "2023-05-19T15:16:05.558Z"
      },
      {
        "duration": 12,
        "start_time": "2023-05-19T15:16:06.151Z"
      },
      {
        "duration": 5,
        "start_time": "2023-05-19T15:17:47.859Z"
      },
      {
        "duration": 4962,
        "start_time": "2023-05-19T15:17:49.103Z"
      },
      {
        "duration": 2,
        "start_time": "2023-05-19T15:41:16.344Z"
      },
      {
        "duration": 2,
        "start_time": "2023-05-19T15:43:08.658Z"
      },
      {
        "duration": 4,
        "start_time": "2023-05-19T15:43:34.203Z"
      },
      {
        "duration": 216,
        "start_time": "2023-05-19T15:43:53.066Z"
      },
      {
        "duration": 4,
        "start_time": "2023-05-19T15:44:19.439Z"
      },
      {
        "duration": 4,
        "start_time": "2023-05-19T15:44:33.712Z"
      },
      {
        "duration": 95,
        "start_time": "2023-05-19T15:45:39.328Z"
      },
      {
        "duration": 4,
        "start_time": "2023-05-19T15:45:42.323Z"
      },
      {
        "duration": 105,
        "start_time": "2023-05-19T15:45:44.678Z"
      },
      {
        "duration": 4,
        "start_time": "2023-05-19T15:46:34.862Z"
      },
      {
        "duration": 1287556,
        "start_time": "2023-05-19T15:46:36.509Z"
      },
      {
        "duration": 14,
        "start_time": "2023-05-19T16:09:39.757Z"
      },
      {
        "duration": 3,
        "start_time": "2023-05-19T16:10:02.484Z"
      },
      {
        "duration": 4,
        "start_time": "2023-05-19T16:16:34.882Z"
      },
      {
        "duration": 4,
        "start_time": "2023-05-19T16:16:59.048Z"
      }
    ],
    "kernelspec": {
      "name": "python3",
      "display_name": "Python 3"
    },
    "language_info": {
      "name": "python",
      "version": "3.10.13",
      "mimetype": "text/x-python",
      "codemirror_mode": {
        "name": "ipython",
        "version": 3
      },
      "pygments_lexer": "ipython3",
      "nbconvert_exporter": "python",
      "file_extension": ".py"
    },
    "toc": {
      "base_numbering": 1,
      "nav_menu": {},
      "number_sections": true,
      "sideBar": true,
      "skip_h1_title": true,
      "title_cell": "Содержание",
      "title_sidebar": "Contents",
      "toc_cell": true,
      "toc_position": {
        "height": "calc(100% - 180px)",
        "left": "10px",
        "top": "150px",
        "width": "302.391px"
      },
      "toc_section_display": true,
      "toc_window_display": false
    },
    "kaggle": {
      "accelerator": "nvidiaTeslaT4",
      "dataSources": [
        {
          "sourceId": 5225748,
          "sourceType": "datasetVersion",
          "datasetId": 3040437
        }
      ],
      "dockerImageVersionId": 30664,
      "isInternetEnabled": true,
      "language": "python",
      "sourceType": "notebook",
      "isGpuEnabled": true
    },
    "colab": {
      "provenance": [],
      "gpuType": "T4",
      "toc_visible": true
    },
    "accelerator": "GPU"
  },
  "nbformat_minor": 0,
  "nbformat": 4,
  "cells": [
    {
      "cell_type": "markdown",
      "source": [
        "# Проект по классификации токсичных комментариев. BERT"
      ],
      "metadata": {
        "id": "PqiUqPxrWEY0"
      }
    },
    {
      "cell_type": "markdown",
      "source": [
        "Необходимо обучить модель классифицировать комментарии на позитивные и негативные. В распоряжении набор данных с разметкой о токсичности.\n",
        "\n",
        "Цель постройть модель со значением метрики качества *F1* не меньше 0.75.\n",
        "\n",
        "**Описание данных**\n",
        "\n",
        "Данные находятся в файле `toxic_comments.csv`. Столбец *text* в нём содержит текст комментария, а *toxic* — целевой признак."
      ],
      "metadata": {
        "id": "Y6Ohau0CKM6N"
      }
    },
    {
      "cell_type": "markdown",
      "source": [
        "## Подготовка"
      ],
      "metadata": {
        "id": "tl4TwMQxWEY5"
      }
    },
    {
      "cell_type": "code",
      "source": [
        "from google.colab import drive\n",
        "drive.mount('/content/drive')"
      ],
      "metadata": {
        "colab": {
          "base_uri": "https://localhost:8080/"
        },
        "id": "NDHF82BZh0Xe",
        "outputId": "239eb99e-1dcc-4bcd-8690-75aecfe5c661"
      },
      "execution_count": 39,
      "outputs": [
        {
          "output_type": "stream",
          "name": "stdout",
          "text": [
            "Drive already mounted at /content/drive; to attempt to forcibly remount, call drive.mount(\"/content/drive\", force_remount=True).\n"
          ]
        }
      ]
    },
    {
      "cell_type": "code",
      "source": [
        "import pandas as pd\n",
        "import numpy as np\n",
        "import spacy\n",
        "from tqdm import tqdm\n",
        "from transformers import BertTokenizer\n",
        "from transformers import BertModel\n",
        "import torch\n",
        "from torch.nn.utils.rnn import pad_sequence\n",
        "from torch.utils.data import TensorDataset, DataLoader\n",
        "from sklearn.model_selection import train_test_split\n",
        "from sklearn.linear_model import LogisticRegression\n",
        "from sklearn.ensemble import RandomForestClassifier\n",
        "import lightgbm as lgb\n",
        "from sklearn.metrics import accuracy_score, classification_report, confusion_matrix, f1_score"
      ],
      "metadata": {
        "execution": {
          "iopub.status.busy": "2024-03-09T16:22:11.970659Z",
          "iopub.execute_input": "2024-03-09T16:22:11.971429Z",
          "iopub.status.idle": "2024-03-09T16:22:30.983489Z",
          "shell.execute_reply.started": "2024-03-09T16:22:11.971391Z",
          "shell.execute_reply": "2024-03-09T16:22:30.982670Z"
        },
        "trusted": true,
        "id": "Bl31twiEWEY7"
      },
      "execution_count": 40,
      "outputs": []
    },
    {
      "cell_type": "code",
      "source": [
        "pth1 = '/datasets/toxic_comments.csv'\n",
        "pth2 = 'https://code.s3.yandex.net/datasets/toxic_comments.csv'\n",
        "\n",
        "try:\n",
        "    df = pd.read_csv(pth1)\n",
        "except:\n",
        "    df = pd.read_csv(pth2)"
      ],
      "metadata": {
        "execution": {
          "iopub.status.busy": "2024-03-09T16:22:30.985009Z",
          "iopub.execute_input": "2024-03-09T16:22:30.985525Z",
          "iopub.status.idle": "2024-03-09T16:22:32.799394Z",
          "shell.execute_reply.started": "2024-03-09T16:22:30.985499Z",
          "shell.execute_reply": "2024-03-09T16:22:32.798401Z"
        },
        "trusted": true,
        "id": "nC43_ntCWEY9"
      },
      "execution_count": 41,
      "outputs": []
    },
    {
      "cell_type": "code",
      "source": [
        "df.info()"
      ],
      "metadata": {
        "execution": {
          "iopub.status.busy": "2024-03-09T16:22:32.800776Z",
          "iopub.execute_input": "2024-03-09T16:22:32.801232Z",
          "iopub.status.idle": "2024-03-09T16:22:32.862472Z",
          "shell.execute_reply.started": "2024-03-09T16:22:32.801192Z",
          "shell.execute_reply": "2024-03-09T16:22:32.861334Z"
        },
        "trusted": true,
        "colab": {
          "base_uri": "https://localhost:8080/"
        },
        "id": "WQGX-si7WEY9",
        "outputId": "3c6db741-d941-4d10-a8ad-3f807c8627fb"
      },
      "execution_count": 42,
      "outputs": [
        {
          "output_type": "stream",
          "name": "stdout",
          "text": [
            "<class 'pandas.core.frame.DataFrame'>\n",
            "RangeIndex: 159292 entries, 0 to 159291\n",
            "Data columns (total 3 columns):\n",
            " #   Column      Non-Null Count   Dtype \n",
            "---  ------      --------------   ----- \n",
            " 0   Unnamed: 0  159292 non-null  int64 \n",
            " 1   text        159292 non-null  object\n",
            " 2   toxic       159292 non-null  int64 \n",
            "dtypes: int64(2), object(1)\n",
            "memory usage: 3.6+ MB\n"
          ]
        }
      ]
    },
    {
      "cell_type": "markdown",
      "source": [
        "Избавимся от ненужного столбца, который копирует индексы"
      ],
      "metadata": {
        "id": "SfBni_ErLC8R"
      }
    },
    {
      "cell_type": "code",
      "source": [
        "df = df.drop('Unnamed: 0', axis=1)"
      ],
      "metadata": {
        "id": "b6hZZ0dLLKhb"
      },
      "execution_count": 43,
      "outputs": []
    },
    {
      "cell_type": "code",
      "source": [
        "df['toxic'].value_counts()"
      ],
      "metadata": {
        "execution": {
          "iopub.status.busy": "2024-03-09T16:22:32.865014Z",
          "iopub.execute_input": "2024-03-09T16:22:32.865501Z",
          "iopub.status.idle": "2024-03-09T16:22:32.879338Z",
          "shell.execute_reply.started": "2024-03-09T16:22:32.865460Z",
          "shell.execute_reply": "2024-03-09T16:22:32.878209Z"
        },
        "trusted": true,
        "colab": {
          "base_uri": "https://localhost:8080/"
        },
        "id": "_RWBRuPOWEY-",
        "outputId": "1621af15-ec42-451d-e715-c2412721e18b"
      },
      "execution_count": 44,
      "outputs": [
        {
          "output_type": "execute_result",
          "data": {
            "text/plain": [
              "toxic\n",
              "0    143106\n",
              "1     16186\n",
              "Name: count, dtype: int64"
            ]
          },
          "metadata": {},
          "execution_count": 44
        }
      ]
    },
    {
      "cell_type": "markdown",
      "source": [
        "## Предобработка"
      ],
      "metadata": {
        "id": "LnAOALmvWEZA"
      }
    },
    {
      "cell_type": "markdown",
      "source": [
        "### Токенизация"
      ],
      "metadata": {
        "id": "vbQNhF_8LjRb"
      }
    },
    {
      "cell_type": "code",
      "source": [
        "tokenizer = BertTokenizer.from_pretrained(\"unitary/toxic-bert\")\n",
        "model = BertModel.from_pretrained(\"unitary/toxic-bert\")"
      ],
      "metadata": {
        "execution": {
          "iopub.status.busy": "2024-03-02T14:45:51.677928Z",
          "iopub.execute_input": "2024-03-02T14:45:51.678573Z",
          "iopub.status.idle": "2024-03-02T14:46:01.132189Z",
          "shell.execute_reply.started": "2024-03-02T14:45:51.678538Z",
          "shell.execute_reply": "2024-03-02T14:46:01.131287Z"
        },
        "trusted": true,
        "id": "3OIsUfzvWEZB"
      },
      "execution_count": 45,
      "outputs": []
    },
    {
      "cell_type": "code",
      "source": [
        "tqdm.pandas()\n",
        "tokenized = df['text'].apply(lambda x: tokenizer.encode(x, max_length=128, truncation=True, add_special_tokens=True))\n",
        "padded = pad_sequence([torch.as_tensor(seq) for seq in tokenized], batch_first=True)\n",
        "\n",
        "attention_mask = padded > 0\n",
        "attention_mask = attention_mask.type(torch.LongTensor)"
      ],
      "metadata": {
        "execution": {
          "iopub.status.busy": "2024-03-02T15:11:26.058645Z",
          "iopub.execute_input": "2024-03-02T15:11:26.059093Z",
          "iopub.status.idle": "2024-03-02T15:18:46.478911Z",
          "shell.execute_reply.started": "2024-03-02T15:11:26.059050Z",
          "shell.execute_reply": "2024-03-02T15:18:46.477670Z"
        },
        "trusted": true,
        "id": "vNZM_8xMWEZB"
      },
      "execution_count": 46,
      "outputs": []
    },
    {
      "cell_type": "code",
      "source": [
        "dataset = TensorDataset(attention_mask, padded)\n",
        "dataloader = DataLoader(dataset, batch_size=32, shuffle=False, num_workers=0)\n",
        "\n",
        "device = torch.device(\"cuda:0\") if torch.cuda.is_available() else torch.device(\"cpu\")\n",
        "print(f'Device: {device}')"
      ],
      "metadata": {
        "execution": {
          "iopub.status.busy": "2024-03-02T15:22:58.242386Z",
          "iopub.execute_input": "2024-03-02T15:22:58.243233Z",
          "iopub.status.idle": "2024-03-02T15:22:58.250160Z",
          "shell.execute_reply.started": "2024-03-02T15:22:58.243199Z",
          "shell.execute_reply": "2024-03-02T15:22:58.249196Z"
        },
        "trusted": true,
        "colab": {
          "base_uri": "https://localhost:8080/"
        },
        "id": "1HO9xvONWEZB",
        "outputId": "9fc6744f-5112-4912-d1cf-6602cd288b73"
      },
      "execution_count": 47,
      "outputs": [
        {
          "output_type": "stream",
          "name": "stdout",
          "text": [
            "Device: cuda:0\n"
          ]
        }
      ]
    },
    {
      "cell_type": "markdown",
      "source": [
        "### Создание эмбедингов"
      ],
      "metadata": {
        "id": "ho5xPIgJLo72"
      }
    },
    {
      "cell_type": "code",
      "source": [
        "try:\n",
        "  features = pd.read_parquet('/content/drive/MyDrive/features.parquet')\n",
        "except:\n",
        "  embeddings = []\n",
        "  model.to(device)\n",
        "  model.eval()\n",
        "  for attention_mask, padded in tqdm(dataloader):\n",
        "      attention_mask, padded = attention_mask.to(device), padded.to(device)\n",
        "\n",
        "      with torch.no_grad():\n",
        "          batch_embeddings = model(padded, attention_mask=attention_mask)\n",
        "\n",
        "      embeddings.append(batch_embeddings[0][:,0,:].cpu().numpy())\n",
        "\n",
        "  features = np.concatenate(embeddings)\n",
        "# pd.DataFrame(features).to_parquet('features.parquet')"
      ],
      "metadata": {
        "id": "tsPipUgC7zvs"
      },
      "execution_count": 48,
      "outputs": []
    },
    {
      "cell_type": "markdown",
      "source": [
        "### Делим выборки"
      ],
      "metadata": {
        "id": "QTP8OrCcMQSg"
      }
    },
    {
      "cell_type": "code",
      "source": [
        "X_train, X_test, y_train, y_test = train_test_split(features, df['toxic'], test_size=0.2, random_state=42)"
      ],
      "metadata": {
        "execution": {
          "iopub.status.busy": "2024-03-02T16:32:19.828681Z",
          "iopub.execute_input": "2024-03-02T16:32:19.829512Z",
          "iopub.status.idle": "2024-03-02T16:32:20.474663Z",
          "shell.execute_reply.started": "2024-03-02T16:32:19.829481Z",
          "shell.execute_reply": "2024-03-02T16:32:20.473779Z"
        },
        "trusted": true,
        "id": "St0J4itqWEZD"
      },
      "execution_count": 49,
      "outputs": []
    },
    {
      "cell_type": "markdown",
      "source": [
        "## Обучение"
      ],
      "metadata": {
        "id": "A4I8x0fZWEZC"
      }
    },
    {
      "cell_type": "markdown",
      "source": [
        "### LogisticRegression"
      ],
      "metadata": {
        "id": "T2iwfijgMVNR"
      }
    },
    {
      "cell_type": "code",
      "source": [
        "model = LogisticRegression(max_iter=200)\n",
        "model.fit(X_train, y_train)"
      ],
      "metadata": {
        "execution": {
          "iopub.status.busy": "2024-03-02T16:59:05.731347Z",
          "iopub.execute_input": "2024-03-02T16:59:05.731776Z",
          "iopub.status.idle": "2024-03-02T17:00:45.077218Z",
          "shell.execute_reply.started": "2024-03-02T16:59:05.731746Z",
          "shell.execute_reply": "2024-03-02T17:00:45.075724Z"
        },
        "trusted": true,
        "id": "smG7r5dwWEZD",
        "colab": {
          "base_uri": "https://localhost:8080/",
          "height": 233
        },
        "outputId": "2c115094-7720-418f-b421-d24a90a9dc2c"
      },
      "execution_count": 50,
      "outputs": [
        {
          "output_type": "stream",
          "name": "stderr",
          "text": [
            "/usr/local/lib/python3.10/dist-packages/sklearn/linear_model/_logistic.py:458: ConvergenceWarning: lbfgs failed to converge (status=1):\n",
            "STOP: TOTAL NO. of ITERATIONS REACHED LIMIT.\n",
            "\n",
            "Increase the number of iterations (max_iter) or scale the data as shown in:\n",
            "    https://scikit-learn.org/stable/modules/preprocessing.html\n",
            "Please also refer to the documentation for alternative solver options:\n",
            "    https://scikit-learn.org/stable/modules/linear_model.html#logistic-regression\n",
            "  n_iter_i = _check_optimize_result(\n"
          ]
        },
        {
          "output_type": "execute_result",
          "data": {
            "text/plain": [
              "LogisticRegression(max_iter=200)"
            ],
            "text/html": [
              "<style>#sk-container-id-3 {color: black;background-color: white;}#sk-container-id-3 pre{padding: 0;}#sk-container-id-3 div.sk-toggleable {background-color: white;}#sk-container-id-3 label.sk-toggleable__label {cursor: pointer;display: block;width: 100%;margin-bottom: 0;padding: 0.3em;box-sizing: border-box;text-align: center;}#sk-container-id-3 label.sk-toggleable__label-arrow:before {content: \"▸\";float: left;margin-right: 0.25em;color: #696969;}#sk-container-id-3 label.sk-toggleable__label-arrow:hover:before {color: black;}#sk-container-id-3 div.sk-estimator:hover label.sk-toggleable__label-arrow:before {color: black;}#sk-container-id-3 div.sk-toggleable__content {max-height: 0;max-width: 0;overflow: hidden;text-align: left;background-color: #f0f8ff;}#sk-container-id-3 div.sk-toggleable__content pre {margin: 0.2em;color: black;border-radius: 0.25em;background-color: #f0f8ff;}#sk-container-id-3 input.sk-toggleable__control:checked~div.sk-toggleable__content {max-height: 200px;max-width: 100%;overflow: auto;}#sk-container-id-3 input.sk-toggleable__control:checked~label.sk-toggleable__label-arrow:before {content: \"▾\";}#sk-container-id-3 div.sk-estimator input.sk-toggleable__control:checked~label.sk-toggleable__label {background-color: #d4ebff;}#sk-container-id-3 div.sk-label input.sk-toggleable__control:checked~label.sk-toggleable__label {background-color: #d4ebff;}#sk-container-id-3 input.sk-hidden--visually {border: 0;clip: rect(1px 1px 1px 1px);clip: rect(1px, 1px, 1px, 1px);height: 1px;margin: -1px;overflow: hidden;padding: 0;position: absolute;width: 1px;}#sk-container-id-3 div.sk-estimator {font-family: monospace;background-color: #f0f8ff;border: 1px dotted black;border-radius: 0.25em;box-sizing: border-box;margin-bottom: 0.5em;}#sk-container-id-3 div.sk-estimator:hover {background-color: #d4ebff;}#sk-container-id-3 div.sk-parallel-item::after {content: \"\";width: 100%;border-bottom: 1px solid gray;flex-grow: 1;}#sk-container-id-3 div.sk-label:hover label.sk-toggleable__label {background-color: #d4ebff;}#sk-container-id-3 div.sk-serial::before {content: \"\";position: absolute;border-left: 1px solid gray;box-sizing: border-box;top: 0;bottom: 0;left: 50%;z-index: 0;}#sk-container-id-3 div.sk-serial {display: flex;flex-direction: column;align-items: center;background-color: white;padding-right: 0.2em;padding-left: 0.2em;position: relative;}#sk-container-id-3 div.sk-item {position: relative;z-index: 1;}#sk-container-id-3 div.sk-parallel {display: flex;align-items: stretch;justify-content: center;background-color: white;position: relative;}#sk-container-id-3 div.sk-item::before, #sk-container-id-3 div.sk-parallel-item::before {content: \"\";position: absolute;border-left: 1px solid gray;box-sizing: border-box;top: 0;bottom: 0;left: 50%;z-index: -1;}#sk-container-id-3 div.sk-parallel-item {display: flex;flex-direction: column;z-index: 1;position: relative;background-color: white;}#sk-container-id-3 div.sk-parallel-item:first-child::after {align-self: flex-end;width: 50%;}#sk-container-id-3 div.sk-parallel-item:last-child::after {align-self: flex-start;width: 50%;}#sk-container-id-3 div.sk-parallel-item:only-child::after {width: 0;}#sk-container-id-3 div.sk-dashed-wrapped {border: 1px dashed gray;margin: 0 0.4em 0.5em 0.4em;box-sizing: border-box;padding-bottom: 0.4em;background-color: white;}#sk-container-id-3 div.sk-label label {font-family: monospace;font-weight: bold;display: inline-block;line-height: 1.2em;}#sk-container-id-3 div.sk-label-container {text-align: center;}#sk-container-id-3 div.sk-container {/* jupyter's `normalize.less` sets `[hidden] { display: none; }` but bootstrap.min.css set `[hidden] { display: none !important; }` so we also need the `!important` here to be able to override the default hidden behavior on the sphinx rendered scikit-learn.org. See: https://github.com/scikit-learn/scikit-learn/issues/21755 */display: inline-block !important;position: relative;}#sk-container-id-3 div.sk-text-repr-fallback {display: none;}</style><div id=\"sk-container-id-3\" class=\"sk-top-container\"><div class=\"sk-text-repr-fallback\"><pre>LogisticRegression(max_iter=200)</pre><b>In a Jupyter environment, please rerun this cell to show the HTML representation or trust the notebook. <br />On GitHub, the HTML representation is unable to render, please try loading this page with nbviewer.org.</b></div><div class=\"sk-container\" hidden><div class=\"sk-item\"><div class=\"sk-estimator sk-toggleable\"><input class=\"sk-toggleable__control sk-hidden--visually\" id=\"sk-estimator-id-3\" type=\"checkbox\" checked><label for=\"sk-estimator-id-3\" class=\"sk-toggleable__label sk-toggleable__label-arrow\">LogisticRegression</label><div class=\"sk-toggleable__content\"><pre>LogisticRegression(max_iter=200)</pre></div></div></div></div></div>"
            ]
          },
          "metadata": {},
          "execution_count": 50
        }
      ]
    },
    {
      "cell_type": "code",
      "source": [
        "y_pred = model.predict(X_test)"
      ],
      "metadata": {
        "id": "N_VLRLhcPNCu"
      },
      "execution_count": 54,
      "outputs": []
    },
    {
      "cell_type": "code",
      "source": [
        "f1_logreg = f1_score(y_test, y_pred)\n",
        "print(\"f1_score:\", f1_logreg)"
      ],
      "metadata": {
        "colab": {
          "base_uri": "https://localhost:8080/"
        },
        "id": "XNyWoqX3PAlE",
        "outputId": "7d4cb68b-b744-4863-b27a-9ad06c72c8b3"
      },
      "execution_count": 55,
      "outputs": [
        {
          "output_type": "stream",
          "name": "stdout",
          "text": [
            "f1_score: 0.9376479873717443\n"
          ]
        }
      ]
    },
    {
      "cell_type": "code",
      "source": [
        "report = classification_report(y_test, y_pred)\n",
        "print('Отчет о классификации:\\n', report)\n",
        "\n",
        "\n",
        "conf_matrix = confusion_matrix(y_test, y_pred)\n",
        "print('Матрица путаницы:\\n', conf_matrix)"
      ],
      "metadata": {
        "colab": {
          "base_uri": "https://localhost:8080/"
        },
        "id": "_wPRaDV4SQRg",
        "outputId": "1505ce9c-185f-4235-823c-d85de231c3f5"
      },
      "execution_count": 58,
      "outputs": [
        {
          "output_type": "stream",
          "name": "stdout",
          "text": [
            "Отчет о классификации:\n",
            "               precision    recall  f1-score   support\n",
            "\n",
            "           0       0.99      0.99      0.99     28658\n",
            "           1       0.95      0.93      0.94      3201\n",
            "\n",
            "    accuracy                           0.99     31859\n",
            "   macro avg       0.97      0.96      0.97     31859\n",
            "weighted avg       0.99      0.99      0.99     31859\n",
            "\n",
            "Матрица путаницы:\n",
            " [[28494   164]\n",
            " [  231  2970]]\n"
          ]
        }
      ]
    },
    {
      "cell_type": "markdown",
      "source": [
        "### RandomForestClassifier"
      ],
      "metadata": {
        "id": "vB4fMwYRMzPS"
      }
    },
    {
      "cell_type": "code",
      "source": [
        "model = RandomForestClassifier(class_weight='balanced', random_state=42)\n",
        "model.fit(X_train, y_train)"
      ],
      "metadata": {
        "colab": {
          "base_uri": "https://localhost:8080/",
          "height": 74
        },
        "id": "IqYDoOrmMtHK",
        "outputId": "4424325f-f44b-463f-f002-e59fdd4fade5"
      },
      "execution_count": 59,
      "outputs": [
        {
          "output_type": "execute_result",
          "data": {
            "text/plain": [
              "RandomForestClassifier(class_weight='balanced', random_state=42)"
            ],
            "text/html": [
              "<style>#sk-container-id-4 {color: black;background-color: white;}#sk-container-id-4 pre{padding: 0;}#sk-container-id-4 div.sk-toggleable {background-color: white;}#sk-container-id-4 label.sk-toggleable__label {cursor: pointer;display: block;width: 100%;margin-bottom: 0;padding: 0.3em;box-sizing: border-box;text-align: center;}#sk-container-id-4 label.sk-toggleable__label-arrow:before {content: \"▸\";float: left;margin-right: 0.25em;color: #696969;}#sk-container-id-4 label.sk-toggleable__label-arrow:hover:before {color: black;}#sk-container-id-4 div.sk-estimator:hover label.sk-toggleable__label-arrow:before {color: black;}#sk-container-id-4 div.sk-toggleable__content {max-height: 0;max-width: 0;overflow: hidden;text-align: left;background-color: #f0f8ff;}#sk-container-id-4 div.sk-toggleable__content pre {margin: 0.2em;color: black;border-radius: 0.25em;background-color: #f0f8ff;}#sk-container-id-4 input.sk-toggleable__control:checked~div.sk-toggleable__content {max-height: 200px;max-width: 100%;overflow: auto;}#sk-container-id-4 input.sk-toggleable__control:checked~label.sk-toggleable__label-arrow:before {content: \"▾\";}#sk-container-id-4 div.sk-estimator input.sk-toggleable__control:checked~label.sk-toggleable__label {background-color: #d4ebff;}#sk-container-id-4 div.sk-label input.sk-toggleable__control:checked~label.sk-toggleable__label {background-color: #d4ebff;}#sk-container-id-4 input.sk-hidden--visually {border: 0;clip: rect(1px 1px 1px 1px);clip: rect(1px, 1px, 1px, 1px);height: 1px;margin: -1px;overflow: hidden;padding: 0;position: absolute;width: 1px;}#sk-container-id-4 div.sk-estimator {font-family: monospace;background-color: #f0f8ff;border: 1px dotted black;border-radius: 0.25em;box-sizing: border-box;margin-bottom: 0.5em;}#sk-container-id-4 div.sk-estimator:hover {background-color: #d4ebff;}#sk-container-id-4 div.sk-parallel-item::after {content: \"\";width: 100%;border-bottom: 1px solid gray;flex-grow: 1;}#sk-container-id-4 div.sk-label:hover label.sk-toggleable__label {background-color: #d4ebff;}#sk-container-id-4 div.sk-serial::before {content: \"\";position: absolute;border-left: 1px solid gray;box-sizing: border-box;top: 0;bottom: 0;left: 50%;z-index: 0;}#sk-container-id-4 div.sk-serial {display: flex;flex-direction: column;align-items: center;background-color: white;padding-right: 0.2em;padding-left: 0.2em;position: relative;}#sk-container-id-4 div.sk-item {position: relative;z-index: 1;}#sk-container-id-4 div.sk-parallel {display: flex;align-items: stretch;justify-content: center;background-color: white;position: relative;}#sk-container-id-4 div.sk-item::before, #sk-container-id-4 div.sk-parallel-item::before {content: \"\";position: absolute;border-left: 1px solid gray;box-sizing: border-box;top: 0;bottom: 0;left: 50%;z-index: -1;}#sk-container-id-4 div.sk-parallel-item {display: flex;flex-direction: column;z-index: 1;position: relative;background-color: white;}#sk-container-id-4 div.sk-parallel-item:first-child::after {align-self: flex-end;width: 50%;}#sk-container-id-4 div.sk-parallel-item:last-child::after {align-self: flex-start;width: 50%;}#sk-container-id-4 div.sk-parallel-item:only-child::after {width: 0;}#sk-container-id-4 div.sk-dashed-wrapped {border: 1px dashed gray;margin: 0 0.4em 0.5em 0.4em;box-sizing: border-box;padding-bottom: 0.4em;background-color: white;}#sk-container-id-4 div.sk-label label {font-family: monospace;font-weight: bold;display: inline-block;line-height: 1.2em;}#sk-container-id-4 div.sk-label-container {text-align: center;}#sk-container-id-4 div.sk-container {/* jupyter's `normalize.less` sets `[hidden] { display: none; }` but bootstrap.min.css set `[hidden] { display: none !important; }` so we also need the `!important` here to be able to override the default hidden behavior on the sphinx rendered scikit-learn.org. See: https://github.com/scikit-learn/scikit-learn/issues/21755 */display: inline-block !important;position: relative;}#sk-container-id-4 div.sk-text-repr-fallback {display: none;}</style><div id=\"sk-container-id-4\" class=\"sk-top-container\"><div class=\"sk-text-repr-fallback\"><pre>RandomForestClassifier(class_weight=&#x27;balanced&#x27;, random_state=42)</pre><b>In a Jupyter environment, please rerun this cell to show the HTML representation or trust the notebook. <br />On GitHub, the HTML representation is unable to render, please try loading this page with nbviewer.org.</b></div><div class=\"sk-container\" hidden><div class=\"sk-item\"><div class=\"sk-estimator sk-toggleable\"><input class=\"sk-toggleable__control sk-hidden--visually\" id=\"sk-estimator-id-4\" type=\"checkbox\" checked><label for=\"sk-estimator-id-4\" class=\"sk-toggleable__label sk-toggleable__label-arrow\">RandomForestClassifier</label><div class=\"sk-toggleable__content\"><pre>RandomForestClassifier(class_weight=&#x27;balanced&#x27;, random_state=42)</pre></div></div></div></div></div>"
            ]
          },
          "metadata": {},
          "execution_count": 59
        }
      ]
    },
    {
      "cell_type": "code",
      "source": [
        "y_pred = model.predict(X_test)"
      ],
      "metadata": {
        "id": "3ke6ufZ3NE9w"
      },
      "execution_count": 60,
      "outputs": []
    },
    {
      "cell_type": "code",
      "source": [
        "f1_rfc = f1_score(y_test, y_pred)\n",
        "print(\"f1_score:\", f1_rfc)"
      ],
      "metadata": {
        "colab": {
          "base_uri": "https://localhost:8080/"
        },
        "id": "QOVfEfTONPry",
        "outputId": "d355e9c4-b36b-4de7-d9ca-fb2c3fb8c731"
      },
      "execution_count": 62,
      "outputs": [
        {
          "output_type": "stream",
          "name": "stdout",
          "text": [
            "f1_score: 0.9352791878172588\n"
          ]
        }
      ]
    },
    {
      "cell_type": "code",
      "source": [
        "report = classification_report(y_test, y_pred)\n",
        "print('Отчет о классификации:\\n', report)\n",
        "\n",
        "\n",
        "conf_matrix = confusion_matrix(y_test, y_pred)\n",
        "print('Матрица путаницы:\\n', conf_matrix)"
      ],
      "metadata": {
        "colab": {
          "base_uri": "https://localhost:8080/"
        },
        "id": "HC9p3zJoSPAd",
        "outputId": "f91b5db3-3735-4bd1-c451-89d3cd5ea528"
      },
      "execution_count": 61,
      "outputs": [
        {
          "output_type": "stream",
          "name": "stdout",
          "text": [
            "Отчет о классификации:\n",
            "               precision    recall  f1-score   support\n",
            "\n",
            "           0       0.99      0.99      0.99     28658\n",
            "           1       0.95      0.92      0.94      3201\n",
            "\n",
            "    accuracy                           0.99     31859\n",
            "   macro avg       0.97      0.96      0.96     31859\n",
            "weighted avg       0.99      0.99      0.99     31859\n",
            "\n",
            "Матрица путаницы:\n",
            " [[28503   155]\n",
            " [  253  2948]]\n"
          ]
        }
      ]
    },
    {
      "cell_type": "markdown",
      "source": [
        "### LGBMClassifier"
      ],
      "metadata": {
        "id": "xXeF7PTUNBMn"
      }
    },
    {
      "cell_type": "code",
      "source": [
        "model = lgb.LGBMClassifier()\n",
        "model.fit(X_train, y_train)"
      ],
      "metadata": {
        "colab": {
          "base_uri": "https://localhost:8080/",
          "height": 196
        },
        "id": "oQiW3kP7-xG8",
        "outputId": "e25940f1-10a8-45a8-9906-b18a8ac852e6"
      },
      "execution_count": 63,
      "outputs": [
        {
          "output_type": "stream",
          "name": "stdout",
          "text": [
            "[LightGBM] [Info] Number of positive: 12985, number of negative: 114448\n",
            "[LightGBM] [Info] Auto-choosing col-wise multi-threading, the overhead of testing was 2.597133 seconds.\n",
            "You can set `force_col_wise=true` to remove the overhead.\n",
            "[LightGBM] [Info] Total Bins 195840\n",
            "[LightGBM] [Info] Number of data points in the train set: 127433, number of used features: 768\n",
            "[LightGBM] [Info] [binary:BoostFromScore]: pavg=0.101897 -> initscore=-2.176326\n",
            "[LightGBM] [Info] Start training from score -2.176326\n"
          ]
        },
        {
          "output_type": "execute_result",
          "data": {
            "text/plain": [
              "LGBMClassifier()"
            ],
            "text/html": [
              "<style>#sk-container-id-5 {color: black;background-color: white;}#sk-container-id-5 pre{padding: 0;}#sk-container-id-5 div.sk-toggleable {background-color: white;}#sk-container-id-5 label.sk-toggleable__label {cursor: pointer;display: block;width: 100%;margin-bottom: 0;padding: 0.3em;box-sizing: border-box;text-align: center;}#sk-container-id-5 label.sk-toggleable__label-arrow:before {content: \"▸\";float: left;margin-right: 0.25em;color: #696969;}#sk-container-id-5 label.sk-toggleable__label-arrow:hover:before {color: black;}#sk-container-id-5 div.sk-estimator:hover label.sk-toggleable__label-arrow:before {color: black;}#sk-container-id-5 div.sk-toggleable__content {max-height: 0;max-width: 0;overflow: hidden;text-align: left;background-color: #f0f8ff;}#sk-container-id-5 div.sk-toggleable__content pre {margin: 0.2em;color: black;border-radius: 0.25em;background-color: #f0f8ff;}#sk-container-id-5 input.sk-toggleable__control:checked~div.sk-toggleable__content {max-height: 200px;max-width: 100%;overflow: auto;}#sk-container-id-5 input.sk-toggleable__control:checked~label.sk-toggleable__label-arrow:before {content: \"▾\";}#sk-container-id-5 div.sk-estimator input.sk-toggleable__control:checked~label.sk-toggleable__label {background-color: #d4ebff;}#sk-container-id-5 div.sk-label input.sk-toggleable__control:checked~label.sk-toggleable__label {background-color: #d4ebff;}#sk-container-id-5 input.sk-hidden--visually {border: 0;clip: rect(1px 1px 1px 1px);clip: rect(1px, 1px, 1px, 1px);height: 1px;margin: -1px;overflow: hidden;padding: 0;position: absolute;width: 1px;}#sk-container-id-5 div.sk-estimator {font-family: monospace;background-color: #f0f8ff;border: 1px dotted black;border-radius: 0.25em;box-sizing: border-box;margin-bottom: 0.5em;}#sk-container-id-5 div.sk-estimator:hover {background-color: #d4ebff;}#sk-container-id-5 div.sk-parallel-item::after {content: \"\";width: 100%;border-bottom: 1px solid gray;flex-grow: 1;}#sk-container-id-5 div.sk-label:hover label.sk-toggleable__label {background-color: #d4ebff;}#sk-container-id-5 div.sk-serial::before {content: \"\";position: absolute;border-left: 1px solid gray;box-sizing: border-box;top: 0;bottom: 0;left: 50%;z-index: 0;}#sk-container-id-5 div.sk-serial {display: flex;flex-direction: column;align-items: center;background-color: white;padding-right: 0.2em;padding-left: 0.2em;position: relative;}#sk-container-id-5 div.sk-item {position: relative;z-index: 1;}#sk-container-id-5 div.sk-parallel {display: flex;align-items: stretch;justify-content: center;background-color: white;position: relative;}#sk-container-id-5 div.sk-item::before, #sk-container-id-5 div.sk-parallel-item::before {content: \"\";position: absolute;border-left: 1px solid gray;box-sizing: border-box;top: 0;bottom: 0;left: 50%;z-index: -1;}#sk-container-id-5 div.sk-parallel-item {display: flex;flex-direction: column;z-index: 1;position: relative;background-color: white;}#sk-container-id-5 div.sk-parallel-item:first-child::after {align-self: flex-end;width: 50%;}#sk-container-id-5 div.sk-parallel-item:last-child::after {align-self: flex-start;width: 50%;}#sk-container-id-5 div.sk-parallel-item:only-child::after {width: 0;}#sk-container-id-5 div.sk-dashed-wrapped {border: 1px dashed gray;margin: 0 0.4em 0.5em 0.4em;box-sizing: border-box;padding-bottom: 0.4em;background-color: white;}#sk-container-id-5 div.sk-label label {font-family: monospace;font-weight: bold;display: inline-block;line-height: 1.2em;}#sk-container-id-5 div.sk-label-container {text-align: center;}#sk-container-id-5 div.sk-container {/* jupyter's `normalize.less` sets `[hidden] { display: none; }` but bootstrap.min.css set `[hidden] { display: none !important; }` so we also need the `!important` here to be able to override the default hidden behavior on the sphinx rendered scikit-learn.org. See: https://github.com/scikit-learn/scikit-learn/issues/21755 */display: inline-block !important;position: relative;}#sk-container-id-5 div.sk-text-repr-fallback {display: none;}</style><div id=\"sk-container-id-5\" class=\"sk-top-container\"><div class=\"sk-text-repr-fallback\"><pre>LGBMClassifier()</pre><b>In a Jupyter environment, please rerun this cell to show the HTML representation or trust the notebook. <br />On GitHub, the HTML representation is unable to render, please try loading this page with nbviewer.org.</b></div><div class=\"sk-container\" hidden><div class=\"sk-item\"><div class=\"sk-estimator sk-toggleable\"><input class=\"sk-toggleable__control sk-hidden--visually\" id=\"sk-estimator-id-5\" type=\"checkbox\" checked><label for=\"sk-estimator-id-5\" class=\"sk-toggleable__label sk-toggleable__label-arrow\">LGBMClassifier</label><div class=\"sk-toggleable__content\"><pre>LGBMClassifier()</pre></div></div></div></div></div>"
            ]
          },
          "metadata": {},
          "execution_count": 63
        }
      ]
    },
    {
      "cell_type": "code",
      "source": [
        "y_pred = model.predict(X_test)"
      ],
      "metadata": {
        "id": "JQPLAWTcOk5S"
      },
      "execution_count": 64,
      "outputs": []
    },
    {
      "cell_type": "code",
      "source": [
        "f1_lgb = f1_score(y_test, y_pred)\n",
        "print(\"f1_score:\", f1_lgb)"
      ],
      "metadata": {
        "colab": {
          "base_uri": "https://localhost:8080/"
        },
        "id": "ZFww3aoY__I3",
        "outputId": "b5786843-1e8d-4dd8-f29b-1797f4a3e8d4"
      },
      "execution_count": 65,
      "outputs": [
        {
          "output_type": "stream",
          "name": "stdout",
          "text": [
            "f1_score: 0.9367128463476071\n"
          ]
        }
      ]
    },
    {
      "cell_type": "code",
      "source": [
        "report = classification_report(y_test, y_pred)\n",
        "print('Отчет о классификации:\\n', report)\n",
        "\n",
        "\n",
        "conf_matrix = confusion_matrix(y_test, y_pred)\n",
        "print('Матрица путаницы:\\n', conf_matrix)"
      ],
      "metadata": {
        "execution": {
          "iopub.status.busy": "2024-03-02T17:01:52.068445Z",
          "iopub.execute_input": "2024-03-02T17:01:52.068812Z",
          "iopub.status.idle": "2024-03-02T17:01:52.173655Z",
          "shell.execute_reply.started": "2024-03-02T17:01:52.068783Z",
          "shell.execute_reply": "2024-03-02T17:01:52.172679Z"
        },
        "trusted": true,
        "id": "5CUQUhlbWEZD",
        "colab": {
          "base_uri": "https://localhost:8080/"
        },
        "outputId": "2538ea03-c4d3-4535-b6b4-067271d529a8"
      },
      "execution_count": 66,
      "outputs": [
        {
          "output_type": "stream",
          "name": "stdout",
          "text": [
            "Отчет о классификации:\n",
            "               precision    recall  f1-score   support\n",
            "\n",
            "           0       0.99      0.99      0.99     28658\n",
            "           1       0.94      0.93      0.94      3201\n",
            "\n",
            "    accuracy                           0.99     31859\n",
            "   macro avg       0.97      0.96      0.96     31859\n",
            "weighted avg       0.99      0.99      0.99     31859\n",
            "\n",
            "Матрица путаницы:\n",
            " [[28482   176]\n",
            " [  226  2975]]\n"
          ]
        }
      ]
    },
    {
      "cell_type": "markdown",
      "source": [
        "### Сравнение"
      ],
      "metadata": {
        "id": "74zJTRkcRjHJ"
      }
    },
    {
      "cell_type": "code",
      "source": [
        "pd.DataFrame({'f1_score': [f1_lgb, f1_rfc, f1_logreg]},\n",
        "             index=['LGBMClassifier', 'RandomForest', 'LogisticRegression']).round(3)"
      ],
      "metadata": {
        "colab": {
          "base_uri": "https://localhost:8080/",
          "height": 143
        },
        "id": "yyutspECRryl",
        "outputId": "bd6735de-4ba3-4eba-c9d5-fc1d7778f222"
      },
      "execution_count": 67,
      "outputs": [
        {
          "output_type": "execute_result",
          "data": {
            "text/plain": [
              "                    f1_score\n",
              "LGBMClassifier         0.937\n",
              "RandomForest           0.935\n",
              "LogisticRegression     0.938"
            ],
            "text/html": [
              "\n",
              "  <div id=\"df-43a27f56-a4d6-4dd8-a3f1-e698beb6ff6d\" class=\"colab-df-container\">\n",
              "    <div>\n",
              "<style scoped>\n",
              "    .dataframe tbody tr th:only-of-type {\n",
              "        vertical-align: middle;\n",
              "    }\n",
              "\n",
              "    .dataframe tbody tr th {\n",
              "        vertical-align: top;\n",
              "    }\n",
              "\n",
              "    .dataframe thead th {\n",
              "        text-align: right;\n",
              "    }\n",
              "</style>\n",
              "<table border=\"1\" class=\"dataframe\">\n",
              "  <thead>\n",
              "    <tr style=\"text-align: right;\">\n",
              "      <th></th>\n",
              "      <th>f1_score</th>\n",
              "    </tr>\n",
              "  </thead>\n",
              "  <tbody>\n",
              "    <tr>\n",
              "      <th>LGBMClassifier</th>\n",
              "      <td>0.937</td>\n",
              "    </tr>\n",
              "    <tr>\n",
              "      <th>RandomForest</th>\n",
              "      <td>0.935</td>\n",
              "    </tr>\n",
              "    <tr>\n",
              "      <th>LogisticRegression</th>\n",
              "      <td>0.938</td>\n",
              "    </tr>\n",
              "  </tbody>\n",
              "</table>\n",
              "</div>\n",
              "    <div class=\"colab-df-buttons\">\n",
              "\n",
              "  <div class=\"colab-df-container\">\n",
              "    <button class=\"colab-df-convert\" onclick=\"convertToInteractive('df-43a27f56-a4d6-4dd8-a3f1-e698beb6ff6d')\"\n",
              "            title=\"Convert this dataframe to an interactive table.\"\n",
              "            style=\"display:none;\">\n",
              "\n",
              "  <svg xmlns=\"http://www.w3.org/2000/svg\" height=\"24px\" viewBox=\"0 -960 960 960\">\n",
              "    <path d=\"M120-120v-720h720v720H120Zm60-500h600v-160H180v160Zm220 220h160v-160H400v160Zm0 220h160v-160H400v160ZM180-400h160v-160H180v160Zm440 0h160v-160H620v160ZM180-180h160v-160H180v160Zm440 0h160v-160H620v160Z\"/>\n",
              "  </svg>\n",
              "    </button>\n",
              "\n",
              "  <style>\n",
              "    .colab-df-container {\n",
              "      display:flex;\n",
              "      gap: 12px;\n",
              "    }\n",
              "\n",
              "    .colab-df-convert {\n",
              "      background-color: #E8F0FE;\n",
              "      border: none;\n",
              "      border-radius: 50%;\n",
              "      cursor: pointer;\n",
              "      display: none;\n",
              "      fill: #1967D2;\n",
              "      height: 32px;\n",
              "      padding: 0 0 0 0;\n",
              "      width: 32px;\n",
              "    }\n",
              "\n",
              "    .colab-df-convert:hover {\n",
              "      background-color: #E2EBFA;\n",
              "      box-shadow: 0px 1px 2px rgba(60, 64, 67, 0.3), 0px 1px 3px 1px rgba(60, 64, 67, 0.15);\n",
              "      fill: #174EA6;\n",
              "    }\n",
              "\n",
              "    .colab-df-buttons div {\n",
              "      margin-bottom: 4px;\n",
              "    }\n",
              "\n",
              "    [theme=dark] .colab-df-convert {\n",
              "      background-color: #3B4455;\n",
              "      fill: #D2E3FC;\n",
              "    }\n",
              "\n",
              "    [theme=dark] .colab-df-convert:hover {\n",
              "      background-color: #434B5C;\n",
              "      box-shadow: 0px 1px 3px 1px rgba(0, 0, 0, 0.15);\n",
              "      filter: drop-shadow(0px 1px 2px rgba(0, 0, 0, 0.3));\n",
              "      fill: #FFFFFF;\n",
              "    }\n",
              "  </style>\n",
              "\n",
              "    <script>\n",
              "      const buttonEl =\n",
              "        document.querySelector('#df-43a27f56-a4d6-4dd8-a3f1-e698beb6ff6d button.colab-df-convert');\n",
              "      buttonEl.style.display =\n",
              "        google.colab.kernel.accessAllowed ? 'block' : 'none';\n",
              "\n",
              "      async function convertToInteractive(key) {\n",
              "        const element = document.querySelector('#df-43a27f56-a4d6-4dd8-a3f1-e698beb6ff6d');\n",
              "        const dataTable =\n",
              "          await google.colab.kernel.invokeFunction('convertToInteractive',\n",
              "                                                    [key], {});\n",
              "        if (!dataTable) return;\n",
              "\n",
              "        const docLinkHtml = 'Like what you see? Visit the ' +\n",
              "          '<a target=\"_blank\" href=https://colab.research.google.com/notebooks/data_table.ipynb>data table notebook</a>'\n",
              "          + ' to learn more about interactive tables.';\n",
              "        element.innerHTML = '';\n",
              "        dataTable['output_type'] = 'display_data';\n",
              "        await google.colab.output.renderOutput(dataTable, element);\n",
              "        const docLink = document.createElement('div');\n",
              "        docLink.innerHTML = docLinkHtml;\n",
              "        element.appendChild(docLink);\n",
              "      }\n",
              "    </script>\n",
              "  </div>\n",
              "\n",
              "\n",
              "<div id=\"df-ef11453b-6b24-4ffa-8264-e113738f4167\">\n",
              "  <button class=\"colab-df-quickchart\" onclick=\"quickchart('df-ef11453b-6b24-4ffa-8264-e113738f4167')\"\n",
              "            title=\"Suggest charts\"\n",
              "            style=\"display:none;\">\n",
              "\n",
              "<svg xmlns=\"http://www.w3.org/2000/svg\" height=\"24px\"viewBox=\"0 0 24 24\"\n",
              "     width=\"24px\">\n",
              "    <g>\n",
              "        <path d=\"M19 3H5c-1.1 0-2 .9-2 2v14c0 1.1.9 2 2 2h14c1.1 0 2-.9 2-2V5c0-1.1-.9-2-2-2zM9 17H7v-7h2v7zm4 0h-2V7h2v10zm4 0h-2v-4h2v4z\"/>\n",
              "    </g>\n",
              "</svg>\n",
              "  </button>\n",
              "\n",
              "<style>\n",
              "  .colab-df-quickchart {\n",
              "      --bg-color: #E8F0FE;\n",
              "      --fill-color: #1967D2;\n",
              "      --hover-bg-color: #E2EBFA;\n",
              "      --hover-fill-color: #174EA6;\n",
              "      --disabled-fill-color: #AAA;\n",
              "      --disabled-bg-color: #DDD;\n",
              "  }\n",
              "\n",
              "  [theme=dark] .colab-df-quickchart {\n",
              "      --bg-color: #3B4455;\n",
              "      --fill-color: #D2E3FC;\n",
              "      --hover-bg-color: #434B5C;\n",
              "      --hover-fill-color: #FFFFFF;\n",
              "      --disabled-bg-color: #3B4455;\n",
              "      --disabled-fill-color: #666;\n",
              "  }\n",
              "\n",
              "  .colab-df-quickchart {\n",
              "    background-color: var(--bg-color);\n",
              "    border: none;\n",
              "    border-radius: 50%;\n",
              "    cursor: pointer;\n",
              "    display: none;\n",
              "    fill: var(--fill-color);\n",
              "    height: 32px;\n",
              "    padding: 0;\n",
              "    width: 32px;\n",
              "  }\n",
              "\n",
              "  .colab-df-quickchart:hover {\n",
              "    background-color: var(--hover-bg-color);\n",
              "    box-shadow: 0 1px 2px rgba(60, 64, 67, 0.3), 0 1px 3px 1px rgba(60, 64, 67, 0.15);\n",
              "    fill: var(--button-hover-fill-color);\n",
              "  }\n",
              "\n",
              "  .colab-df-quickchart-complete:disabled,\n",
              "  .colab-df-quickchart-complete:disabled:hover {\n",
              "    background-color: var(--disabled-bg-color);\n",
              "    fill: var(--disabled-fill-color);\n",
              "    box-shadow: none;\n",
              "  }\n",
              "\n",
              "  .colab-df-spinner {\n",
              "    border: 2px solid var(--fill-color);\n",
              "    border-color: transparent;\n",
              "    border-bottom-color: var(--fill-color);\n",
              "    animation:\n",
              "      spin 1s steps(1) infinite;\n",
              "  }\n",
              "\n",
              "  @keyframes spin {\n",
              "    0% {\n",
              "      border-color: transparent;\n",
              "      border-bottom-color: var(--fill-color);\n",
              "      border-left-color: var(--fill-color);\n",
              "    }\n",
              "    20% {\n",
              "      border-color: transparent;\n",
              "      border-left-color: var(--fill-color);\n",
              "      border-top-color: var(--fill-color);\n",
              "    }\n",
              "    30% {\n",
              "      border-color: transparent;\n",
              "      border-left-color: var(--fill-color);\n",
              "      border-top-color: var(--fill-color);\n",
              "      border-right-color: var(--fill-color);\n",
              "    }\n",
              "    40% {\n",
              "      border-color: transparent;\n",
              "      border-right-color: var(--fill-color);\n",
              "      border-top-color: var(--fill-color);\n",
              "    }\n",
              "    60% {\n",
              "      border-color: transparent;\n",
              "      border-right-color: var(--fill-color);\n",
              "    }\n",
              "    80% {\n",
              "      border-color: transparent;\n",
              "      border-right-color: var(--fill-color);\n",
              "      border-bottom-color: var(--fill-color);\n",
              "    }\n",
              "    90% {\n",
              "      border-color: transparent;\n",
              "      border-bottom-color: var(--fill-color);\n",
              "    }\n",
              "  }\n",
              "</style>\n",
              "\n",
              "  <script>\n",
              "    async function quickchart(key) {\n",
              "      const quickchartButtonEl =\n",
              "        document.querySelector('#' + key + ' button');\n",
              "      quickchartButtonEl.disabled = true;  // To prevent multiple clicks.\n",
              "      quickchartButtonEl.classList.add('colab-df-spinner');\n",
              "      try {\n",
              "        const charts = await google.colab.kernel.invokeFunction(\n",
              "            'suggestCharts', [key], {});\n",
              "      } catch (error) {\n",
              "        console.error('Error during call to suggestCharts:', error);\n",
              "      }\n",
              "      quickchartButtonEl.classList.remove('colab-df-spinner');\n",
              "      quickchartButtonEl.classList.add('colab-df-quickchart-complete');\n",
              "    }\n",
              "    (() => {\n",
              "      let quickchartButtonEl =\n",
              "        document.querySelector('#df-ef11453b-6b24-4ffa-8264-e113738f4167 button');\n",
              "      quickchartButtonEl.style.display =\n",
              "        google.colab.kernel.accessAllowed ? 'block' : 'none';\n",
              "    })();\n",
              "  </script>\n",
              "</div>\n",
              "    </div>\n",
              "  </div>\n"
            ],
            "application/vnd.google.colaboratory.intrinsic+json": {
              "type": "dataframe",
              "summary": "{\n  \"name\": \"             index=['LGBMClassifier', 'RandomForest', 'LogisticRegression'])\",\n  \"rows\": 3,\n  \"fields\": [\n    {\n      \"column\": \"f1_score\",\n      \"properties\": {\n        \"dtype\": \"number\",\n        \"std\": 0.0015275252316518995,\n        \"min\": 0.935,\n        \"max\": 0.938,\n        \"num_unique_values\": 3,\n        \"samples\": [\n          0.937,\n          0.935,\n          0.938\n        ],\n        \"semantic_type\": \"\",\n        \"description\": \"\"\n      }\n    }\n  ]\n}"
            }
          },
          "metadata": {},
          "execution_count": 67
        }
      ]
    },
    {
      "cell_type": "markdown",
      "source": [
        "### DummyRegressor"
      ],
      "metadata": {
        "id": "HrUOAeSoSiRm"
      }
    },
    {
      "cell_type": "code",
      "source": [
        "dum_prediction = pd.Series(1, index=y_test)\n",
        "\n",
        "print(f1_score(y_test, dum_prediction))"
      ],
      "metadata": {
        "colab": {
          "base_uri": "https://localhost:8080/"
        },
        "id": "EQn66kmVShQc",
        "outputId": "a571682a-8d5e-47bd-d714-495e7574440d"
      },
      "execution_count": 71,
      "outputs": [
        {
          "output_type": "stream",
          "name": "stdout",
          "text": [
            "0.18260125499144325\n"
          ]
        }
      ]
    },
    {
      "cell_type": "markdown",
      "source": [
        "Как мы видим, константная модель которая помечает все строки токсичными, имеет точность всего лишь 0.18"
      ],
      "metadata": {
        "id": "3oP44Hb6SozI"
      }
    },
    {
      "cell_type": "markdown",
      "source": [
        "## Выводы\n",
        "Задачей проекта было разработать прототип модели машинного обучения, который мог бы предсказывать токсичность комментариев. В ходе работы были выполнены следующие шаги:\n",
        "- Подготовка данных. В процессе подготовки данных были выполнены операции, такие как чтение и изучение данных, удаление лишнего стоблца. Для получения эмбеддингов текстовых данных была использована предобученная модель BERT.\n",
        "- Анализ:\n",
        "    - В данных имеется явный дисбаланс, устранили его с помощью встроенных методов весов в моделях машинного обучения.\n",
        "- Перед обучением были разделены выборки в соотношении 1 к 5.\n",
        "- Были обучены и протестированны три модели на кроссвалидации LGBMClassifier, LogisticRegression и RandomForest\n",
        "- Экспериментировал с различными гиперпараметрами модели, такими как размерность эмбеддингов, размер батча и количество эпох.  \n",
        "- Самой удачной для нашей задачи является комбинация toxic-bert эмбендингов и модели LogisticRegression, что дало F1 = 0.94, это полностью удовлетворяет условиям задачи. Данный подход должен хорошо работать на больших наборах данных и легко интерпретироваться.  \n",
        "\n"
      ],
      "metadata": {
        "id": "LdUI-qViWEZE"
      }
    }
  ]
}